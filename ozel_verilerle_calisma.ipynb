{
  "nbformat": 4,
  "nbformat_minor": 0,
  "metadata": {
    "colab": {
      "name": "Colab ve Özel Verilerle Çalışmak.ipynb",
      "version": "0.3.2",
      "provenance": [],
      "collapsed_sections": [],
      "toc_visible": true
    },
    "kernelspec": {
      "name": "python3",
      "display_name": "Python 3"
    },
    "accelerator": "GPU"
  },
  "cells": [
    {
      "cell_type": "markdown",
      "metadata": {
        "id": "hteicN6EafjU",
        "colab_type": "text"
      },
      "source": [
        "# **ÖZEL VERİLERLE ÇALIŞMANIN YOLLARI**"
      ]
    },
    {
      "cell_type": "markdown",
      "metadata": {
        "id": "rIZ1xIkI63SS",
        "colab_type": "text"
      },
      "source": [
        "# Neden google colab kullanıyoruz?\n",
        "\n",
        "Colab bize yüksek bir işlem gücü, GPU, TPU kullanımı gibi seçenekler ve verimlilik sağlıyor. Özellikle otomatik kod tamamlama özelliği ile artık bir entegre geliştirme ortamı olmaya çok yaklaştı.\n",
        "\n",
        "Google Colab bize 12 GB RAM ve verilerimiz için yaklaşık 360 GB'lık bir disk alanı sağlıyor. (Tabi veriyi drive'a kopyalamadığımız zaman). Ayrıca eğer veriyi google colab üzerinden indirip okutursak kendi internet hızımızdan çok daha hızlı bir şekilde indirme yapabiliyoruz. Çünkü veriyi google kendi sürücüsüne ve kendi internet hızını kullanarak indiriyor. Sonuç olarak bizm bilgisayarımızla ilgili bir işlem olmadığı için google kendi altyapısıyla işi hallediyor ve çok hızlı bir şekilde tamamlıyor. \n",
        "\n",
        "Ayrıca kendi bilgisayarımızın işlem gücünün yetersiz olduğu veya zaman alan işler için de colab iyi bir seçenek olarak karşımıza çıkıyor.\n",
        "\n",
        "Çeşitli veri okuma yollarını aşağıda anlatmış olacağız."
      ]
    },
    {
      "cell_type": "code",
      "metadata": {
        "id": "Tcql0ZauU0tx",
        "colab_type": "code",
        "colab": {}
      },
      "source": [
        "import tensorflow as tf\n",
        "import pandas as pd\n",
        "import numpy as np\n",
        "import seaborn as sns\n",
        "import matplotlib.pyplot as plt"
      ],
      "execution_count": 0,
      "outputs": []
    },
    {
      "cell_type": "markdown",
      "metadata": {
        "id": "Mei6tz9NatnP",
        "colab_type": "text"
      },
      "source": [
        "# 1. YOL - YEREL SÜRÜCÜDEN DOSYA YÜKLEMEK VE PANDAS'A AKTARMAK"
      ]
    },
    {
      "cell_type": "markdown",
      "metadata": {
        "id": "QCPjfEnS37FD",
        "colab_type": "text"
      },
      "source": [
        "Bu işlem ile yerel sürücümüzde bulunan dosyayı direk olarak yükleyip üzerinde çalışabiliriz. Ama oturum kapatıldıktan sonra dosya silinecektir. Bunu engellemek için dosyayı drive'a yükleyip okutabilir veya bu şekilde yükledikten sonra drive içine kopyalayabiliriz. Her iki şekilde de nasıl yapacağımız aşağıdaki kısımlarda gösteriliyor.\n",
        "\n",
        "Burada önemli olan \"veri.csv\" yazan yer yüklediğimiz dosyanın ismi ile aynı olmalı. Aksi takdirde dosya okunamaz."
      ]
    },
    {
      "cell_type": "code",
      "metadata": {
        "id": "4UUGAWeRVpMW",
        "colab_type": "code",
        "outputId": "741b41ac-1e7b-49eb-83b8-a7f4915d033a",
        "colab": {
          "resources": {
            "http://localhost:8080/nbextensions/google.colab/files.js": {
              "data": "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",
              "ok": true,
              "headers": [
                [
                  "content-type",
                  "application/javascript"
                ]
              ],
              "status": 200,
              "status_text": ""
            }
          },
          "base_uri": "https://localhost:8080/",
          "height": 74
        }
      },
      "source": [
        "from google.colab import files\n",
        "uploaded = files.upload()\n",
        "\n",
        "import io\n",
        "veri = pd.read_csv(io.BytesIO(uploaded['veri.csv'])) #veri.csv dosyanın ismi değiştirilmesi gerekir.\n",
        "#artık dosyamız pandas dataframe olarak import edildi."
      ],
      "execution_count": 0,
      "outputs": [
        {
          "output_type": "display_data",
          "data": {
            "text/html": [
              "\n",
              "     <input type=\"file\" id=\"files-d4b38205-a7a3-4449-84c5-6e8c191c06a7\" name=\"files[]\" multiple disabled />\n",
              "     <output id=\"result-d4b38205-a7a3-4449-84c5-6e8c191c06a7\">\n",
              "      Upload widget is only available when the cell has been executed in the\n",
              "      current browser session. Please rerun this cell to enable.\n",
              "      </output>\n",
              "      <script src=\"/nbextensions/google.colab/files.js\"></script> "
            ],
            "text/plain": [
              "<IPython.core.display.HTML object>"
            ]
          },
          "metadata": {
            "tags": []
          }
        },
        {
          "output_type": "stream",
          "text": [
            "Saving veri.csv to veri (1).csv\n"
          ],
          "name": "stdout"
        }
      ]
    },
    {
      "cell_type": "code",
      "metadata": {
        "id": "HkyOuvw1YjpW",
        "colab_type": "code",
        "outputId": "3ea7cde1-8e7f-449c-c294-77c99c44da74",
        "colab": {
          "base_uri": "https://localhost:8080/",
          "height": 119
        }
      },
      "source": [
        "print(veri.head())"
      ],
      "execution_count": 0,
      "outputs": [
        {
          "output_type": "stream",
          "text": [
            "      School  Women  Men  Gap\n",
            "0        MIT     94  152   58\n",
            "1   Stanford     96  151   55\n",
            "2    Harvard    112  165   53\n",
            "3     U.Penn     92  141   49\n",
            "4  Princeton     90  137   47\n"
          ],
          "name": "stdout"
        }
      ]
    },
    {
      "cell_type": "markdown",
      "metadata": {
        "id": "ZMNbeSfSbdWK",
        "colab_type": "text"
      },
      "source": [
        "# 2. YOL - GITHUB vb. YERLER ÜZERİNDEN DOSYA YÜKLEMEK VE PANDAS'A OKUTMAK"
      ]
    },
    {
      "cell_type": "markdown",
      "metadata": {
        "id": "7xUtsmaaxzhr",
        "colab_type": "text"
      },
      "source": [
        "Bu yolu uygularken veriye url'si üzerinden doğrudan ulaşılabiliyor olmalı. Aşağıdaki linkten nasıl görüündüğüne bakarsak daha iyi anlayabiliriz:\n",
        "\n",
        "https://raw.githubusercontent.com/RegaipKURT/R-Project-Giri-/master/cancer.csv\n",
        "\n",
        "Bu şekilde ulaşabildiğimiz verileri direk pandas'a url üzerinden okutabiliriz."
      ]
    },
    {
      "cell_type": "code",
      "metadata": {
        "id": "5F1APFFBbnlY",
        "colab_type": "code",
        "outputId": "9bec37ef-6b78-4676-9696-939303f61a50",
        "colab": {
          "base_uri": "https://localhost:8080/",
          "height": 153
        }
      },
      "source": [
        "url = 'https://raw.githubusercontent.com/RegaipKURT/R-Project-Giri-/master/cancer.csv' #KOPYALANAN GITHUB LİNKİ\n",
        "#URL YÜKLERKEN \"RAW\" KISMINA GİRİP LİNKİNİ KOPYALAYIN.\n",
        "\n",
        "#SADECE GITHUB İÇİN GEÇERLİ DEĞİL BAŞKA YERLERDEN DE VERİ AKTARABİLİRİZ.\n",
        "\n",
        "veri_cancer = pd.read_csv(url)\n",
        "# Dataset is now stored in a Pandas Dataframe\n",
        "\n",
        "print(veri_cancer.head())"
      ],
      "execution_count": 0,
      "outputs": [
        {
          "output_type": "stream",
          "text": [
            "     age menopause tumor-size  ... breast-quad irradiat                 Class\n",
            "0  40-49   premeno      15-19  ...     left_up       no     recurrence-events\n",
            "1  50-59      ge40      15-19  ...     central       no  no-recurrence-events\n",
            "2  50-59      ge40      35-39  ...    left_low       no     recurrence-events\n",
            "3  40-49   premeno      35-39  ...    left_low      yes  no-recurrence-events\n",
            "4  40-49   premeno      30-34  ...    right_up       no     recurrence-events\n",
            "\n",
            "[5 rows x 10 columns]\n"
          ],
          "name": "stdout"
        }
      ]
    },
    {
      "cell_type": "markdown",
      "metadata": {
        "id": "p3_BvFW2mCB_",
        "colab_type": "text"
      },
      "source": [
        "# 3. YOL - DRIVE'DAN DOSYAYI PATH İLE ALMAK\n",
        "\n",
        "Bu yolda dosyamızı google drive'a yükledikten sonra drive'ı import ederek veriyi drive üzerinden okutuyoruz.\n",
        "\n",
        "Çıkacak olan linke girip gelen kodu yine aşağıda çıkan alana yapıştırarak entera basmamız gerekiyor."
      ]
    },
    {
      "cell_type": "code",
      "metadata": {
        "id": "78kv21ZZmg0S",
        "colab_type": "code",
        "outputId": "a4458fab-4916-4fbb-df7b-dc2eab88cfed",
        "colab": {
          "base_uri": "https://localhost:8080/",
          "height": 122
        }
      },
      "source": [
        "from google.colab import drive\n",
        "drive.mount('/content/gdrive')"
      ],
      "execution_count": 0,
      "outputs": [
        {
          "output_type": "stream",
          "text": [
            "Go to this URL in a browser: https://accounts.google.com/o/oauth2/auth?client_id=947318989803-6bn6qk8qdgf4n4g3pfee6491hc0brc4i.apps.googleusercontent.com&redirect_uri=urn%3Aietf%3Awg%3Aoauth%3A2.0%3Aoob&scope=email%20https%3A%2F%2Fwww.googleapis.com%2Fauth%2Fdocs.test%20https%3A%2F%2Fwww.googleapis.com%2Fauth%2Fdrive%20https%3A%2F%2Fwww.googleapis.com%2Fauth%2Fdrive.photos.readonly%20https%3A%2F%2Fwww.googleapis.com%2Fauth%2Fpeopleapi.readonly&response_type=code\n",
            "\n",
            "Enter your authorization code:\n",
            "··········\n",
            "Mounted at /content/gdrive\n"
          ],
          "name": "stdout"
        }
      ]
    },
    {
      "cell_type": "markdown",
      "metadata": {
        "id": "bD8fno4510Yi",
        "colab_type": "text"
      },
      "source": [
        "Ben gdrive olarak isimlendirdim dosya yolunu siz başka bir isim de yazabilirsiniz."
      ]
    },
    {
      "cell_type": "markdown",
      "metadata": {
        "id": "SCaS5tAOw4kW",
        "colab_type": "text"
      },
      "source": [
        " Colab içinde sol taraftaki sekmeden files kısmına giderek dosyamızı bulduktan sonra sağ tıklayıp yolu kopyalayarak kullanabiliriz. \n",
        " \n",
        "Bu arada ters slash dosya yolu boşluk içeriyorsa önemli. Eğer dosya yolu \"\" çift tırmak içinde veriliyorsa boşluklar sorun çıkarmayabilir. Fakat \"\" işareti içinde belirtilmeyen işlemlerde dosya bulunamadı hatası verecektir. Bu durumda boşluk olan yerlere ters slash ( \\ ) koymayı unutmayın yoksa dosya bulunamadı hatası alabiriz. \n",
        "\n",
        "Her ihtimale karşı dosya bulunamadı hatası alırsanız ters slash aklınızda olsun.\n",
        "\n",
        "Biz pandas'a veri okuturken veriyi \"veriyolu\" şeklinde çift tırnak içinde okuttuğumuz için bir sorun çıkmayacak."
      ]
    },
    {
      "cell_type": "code",
      "metadata": {
        "id": "4xWKZ93kxKM6",
        "colab_type": "code",
        "outputId": "1258bd4d-d2d5-40f6-8f9a-e50883eff771",
        "colab": {
          "base_uri": "https://localhost:8080/",
          "height": 153
        }
      },
      "source": [
        "veri = pd.read_csv(\"/content/gdrive/My Drive/Colab Notebooks/datasets/timesData.csv\")\n",
        "print(veri.head())"
      ],
      "execution_count": 0,
      "outputs": [
        {
          "output_type": "stream",
          "text": [
            "  world_rank                        university_name  ... female_male_ratio  year\n",
            "0          1                     Harvard University  ...               NaN  2011\n",
            "1          2     California Institute of Technology  ...           33 : 67  2011\n",
            "2          3  Massachusetts Institute of Technology  ...           37 : 63  2011\n",
            "3          4                    Stanford University  ...           42 : 58  2011\n",
            "4          5                   Princeton University  ...           45 : 55  2011\n",
            "\n",
            "[5 rows x 14 columns]\n"
          ],
          "name": "stdout"
        }
      ]
    },
    {
      "cell_type": "markdown",
      "metadata": {
        "id": "XZCjtR_xwOIk",
        "colab_type": "text"
      },
      "source": [
        "# 4.KAGGLE VERİSİNİ İNDİRİP ÇALIŞMAK\n",
        "\n",
        "Bunun için kaggle da account kısmından new api alma kısmına tıklayıp indirdiğimiz *json* uzantılı dosyayı yüklemek gerekiyor. \n",
        "\n",
        "Ardından bu işlemi yaptıktan sonra verinin olduğu sayfaya girip kaggle.com/ yazan kısımdan sonra link kısmını kopyalayıp aşağıda *kaggle dataset download* yazısından sonra \" \" içindeki yere yapıştırmamız gerekiyor.\n",
        "\n",
        "Bizim örneğimiz için link şöyle: https://www.kaggle.com/center-for-policing-equity/data-science-for-good\n",
        "\n"
      ]
    },
    {
      "cell_type": "code",
      "metadata": {
        "id": "TAIU-19IwLWR",
        "colab_type": "code",
        "colab": {}
      },
      "source": [
        "from google.colab import files\n",
        "\n",
        "uploaded = files.upload()\n",
        "\n",
        "for fn in uploaded.keys():\n",
        "  print('User uploaded file \"{name}\" with length {length} bytes'.format(\n",
        "      name=fn, length=len(uploaded[fn])))\n",
        "  \n",
        "# Then move kaggle.json into the folder where the API expects to find it.\n",
        "!mkdir -p ~/.kaggle/ && mv kaggle.json ~/.kaggle/ && chmod 600 ~/.kaggle/kaggle.json\n",
        "\n",
        "\n",
        "import kaggle\n",
        "!kaggle datasets download \"center-for-policing-equity/data-science-for-good\""
      ],
      "execution_count": 0,
      "outputs": []
    },
    {
      "cell_type": "markdown",
      "metadata": {
        "id": "fUz2wmJfwgB7",
        "colab_type": "text"
      },
      "source": [
        "Dosyayı indirip yükledikten sonra files kısmında görülecektir. Direkt olarak dosyayı okutabiliriz."
      ]
    },
    {
      "cell_type": "code",
      "metadata": {
        "id": "C2GscQ23znr7",
        "colab_type": "code",
        "outputId": "6ebcf96b-0581-4743-c470-f27a850747c7",
        "colab": {
          "base_uri": "https://localhost:8080/",
          "height": 700
        }
      },
      "source": [
        "pd.read_csv(\"veri.csv\") #direk dosya ismi de yazılabilir."
      ],
      "execution_count": 0,
      "outputs": [
        {
          "output_type": "execute_result",
          "data": {
            "text/html": [
              "<div>\n",
              "<style scoped>\n",
              "    .dataframe tbody tr th:only-of-type {\n",
              "        vertical-align: middle;\n",
              "    }\n",
              "\n",
              "    .dataframe tbody tr th {\n",
              "        vertical-align: top;\n",
              "    }\n",
              "\n",
              "    .dataframe thead th {\n",
              "        text-align: right;\n",
              "    }\n",
              "</style>\n",
              "<table border=\"1\" class=\"dataframe\">\n",
              "  <thead>\n",
              "    <tr style=\"text-align: right;\">\n",
              "      <th></th>\n",
              "      <th>School</th>\n",
              "      <th>Women</th>\n",
              "      <th>Men</th>\n",
              "      <th>Gap</th>\n",
              "    </tr>\n",
              "  </thead>\n",
              "  <tbody>\n",
              "    <tr>\n",
              "      <th>0</th>\n",
              "      <td>MIT</td>\n",
              "      <td>94</td>\n",
              "      <td>152</td>\n",
              "      <td>58</td>\n",
              "    </tr>\n",
              "    <tr>\n",
              "      <th>1</th>\n",
              "      <td>Stanford</td>\n",
              "      <td>96</td>\n",
              "      <td>151</td>\n",
              "      <td>55</td>\n",
              "    </tr>\n",
              "    <tr>\n",
              "      <th>2</th>\n",
              "      <td>Harvard</td>\n",
              "      <td>112</td>\n",
              "      <td>165</td>\n",
              "      <td>53</td>\n",
              "    </tr>\n",
              "    <tr>\n",
              "      <th>3</th>\n",
              "      <td>U.Penn</td>\n",
              "      <td>92</td>\n",
              "      <td>141</td>\n",
              "      <td>49</td>\n",
              "    </tr>\n",
              "    <tr>\n",
              "      <th>4</th>\n",
              "      <td>Princeton</td>\n",
              "      <td>90</td>\n",
              "      <td>137</td>\n",
              "      <td>47</td>\n",
              "    </tr>\n",
              "    <tr>\n",
              "      <th>5</th>\n",
              "      <td>Chicago</td>\n",
              "      <td>78</td>\n",
              "      <td>118</td>\n",
              "      <td>40</td>\n",
              "    </tr>\n",
              "    <tr>\n",
              "      <th>6</th>\n",
              "      <td>Georgetown</td>\n",
              "      <td>94</td>\n",
              "      <td>131</td>\n",
              "      <td>37</td>\n",
              "    </tr>\n",
              "    <tr>\n",
              "      <th>7</th>\n",
              "      <td>Tufts</td>\n",
              "      <td>76</td>\n",
              "      <td>112</td>\n",
              "      <td>36</td>\n",
              "    </tr>\n",
              "    <tr>\n",
              "      <th>8</th>\n",
              "      <td>Yale</td>\n",
              "      <td>79</td>\n",
              "      <td>114</td>\n",
              "      <td>35</td>\n",
              "    </tr>\n",
              "    <tr>\n",
              "      <th>9</th>\n",
              "      <td>Columbia</td>\n",
              "      <td>86</td>\n",
              "      <td>119</td>\n",
              "      <td>33</td>\n",
              "    </tr>\n",
              "    <tr>\n",
              "      <th>10</th>\n",
              "      <td>Duke</td>\n",
              "      <td>93</td>\n",
              "      <td>124</td>\n",
              "      <td>31</td>\n",
              "    </tr>\n",
              "    <tr>\n",
              "      <th>11</th>\n",
              "      <td>Dartmouth</td>\n",
              "      <td>84</td>\n",
              "      <td>114</td>\n",
              "      <td>30</td>\n",
              "    </tr>\n",
              "    <tr>\n",
              "      <th>12</th>\n",
              "      <td>NYU</td>\n",
              "      <td>67</td>\n",
              "      <td>94</td>\n",
              "      <td>27</td>\n",
              "    </tr>\n",
              "    <tr>\n",
              "      <th>13</th>\n",
              "      <td>Notre Dame</td>\n",
              "      <td>73</td>\n",
              "      <td>100</td>\n",
              "      <td>27</td>\n",
              "    </tr>\n",
              "    <tr>\n",
              "      <th>14</th>\n",
              "      <td>Cornell</td>\n",
              "      <td>80</td>\n",
              "      <td>107</td>\n",
              "      <td>27</td>\n",
              "    </tr>\n",
              "    <tr>\n",
              "      <th>15</th>\n",
              "      <td>Michigan</td>\n",
              "      <td>62</td>\n",
              "      <td>84</td>\n",
              "      <td>22</td>\n",
              "    </tr>\n",
              "    <tr>\n",
              "      <th>16</th>\n",
              "      <td>Brown</td>\n",
              "      <td>72</td>\n",
              "      <td>92</td>\n",
              "      <td>20</td>\n",
              "    </tr>\n",
              "    <tr>\n",
              "      <th>17</th>\n",
              "      <td>Berkeley</td>\n",
              "      <td>71</td>\n",
              "      <td>88</td>\n",
              "      <td>17</td>\n",
              "    </tr>\n",
              "    <tr>\n",
              "      <th>18</th>\n",
              "      <td>Emory</td>\n",
              "      <td>68</td>\n",
              "      <td>82</td>\n",
              "      <td>14</td>\n",
              "    </tr>\n",
              "    <tr>\n",
              "      <th>19</th>\n",
              "      <td>UCLA</td>\n",
              "      <td>64</td>\n",
              "      <td>78</td>\n",
              "      <td>14</td>\n",
              "    </tr>\n",
              "    <tr>\n",
              "      <th>20</th>\n",
              "      <td>SoCal</td>\n",
              "      <td>72</td>\n",
              "      <td>81</td>\n",
              "      <td>9</td>\n",
              "    </tr>\n",
              "  </tbody>\n",
              "</table>\n",
              "</div>"
            ],
            "text/plain": [
              "        School  Women  Men  Gap\n",
              "0          MIT     94  152   58\n",
              "1     Stanford     96  151   55\n",
              "2      Harvard    112  165   53\n",
              "3       U.Penn     92  141   49\n",
              "4    Princeton     90  137   47\n",
              "5      Chicago     78  118   40\n",
              "6   Georgetown     94  131   37\n",
              "7        Tufts     76  112   36\n",
              "8         Yale     79  114   35\n",
              "9     Columbia     86  119   33\n",
              "10        Duke     93  124   31\n",
              "11   Dartmouth     84  114   30\n",
              "12         NYU     67   94   27\n",
              "13  Notre Dame     73  100   27\n",
              "14     Cornell     80  107   27\n",
              "15    Michigan     62   84   22\n",
              "16       Brown     72   92   20\n",
              "17    Berkeley     71   88   17\n",
              "18       Emory     68   82   14\n",
              "19        UCLA     64   78   14\n",
              "20       SoCal     72   81    9"
            ]
          },
          "metadata": {
            "tags": []
          },
          "execution_count": 25
        }
      ]
    },
    {
      "cell_type": "markdown",
      "metadata": {
        "id": "cFdZtJf0zyTN",
        "colab_type": "text"
      },
      "source": [
        "# Veriyi Saklamak\n",
        "\n",
        "İndirdiğimiz veriler session kapandıktan sonra kaybolacaktır. Eğer bu verileri saklamak istiyorsak drive içine kopyalayabiliriz.\n",
        "\n",
        "Bunun için ilk önce drive'ı import etmek gerekiyor. Daha sonra linux işletim sistemindeki dosya taşıma komutlarıyla dosyamızı drive'a taşıyabiliriz."
      ]
    },
    {
      "cell_type": "markdown",
      "metadata": {
        "id": "CbVbXgBX3Tx2",
        "colab_type": "text"
      },
      "source": [
        "Yukarıda indirdiğimiz dosyayı google drive içine kopyalayalım."
      ]
    },
    {
      "cell_type": "code",
      "metadata": {
        "id": "QzbsOMQq0OaO",
        "colab_type": "code",
        "colab": {}
      },
      "source": [
        "!mv /content/data-science-for-good.zip /content/gdrive/My\\ Drive/Colab\\ Notebooks/datasets"
      ],
      "execution_count": 0,
      "outputs": []
    },
    {
      "cell_type": "markdown",
      "metadata": {
        "id": "IQbJA_gc03HM",
        "colab_type": "text"
      },
      "source": [
        "Yukarıda belirttiğim dosya ismi sorununa burada rastlıyacağız. Çünkü bir linux komutuyla dosya taşıma işlemi gerçekleştireceğiz ve dosya ismimiz tırnak işaretleri ( \" \" ) arasında olmayacak.\n",
        "\n",
        "Eğer dosya isimleri arasında boşluk varsa boşluk olan yere yukarıdaki gibi ters slash koyarak belirtmemiz gerekiyor. ( \\ şu işaret yani)"
      ]
    },
    {
      "cell_type": "markdown",
      "metadata": {
        "id": "tteRDutb-CCS",
        "colab_type": "text"
      },
      "source": [
        "# ZİP DOSYALARI İLE ÇALIŞMAK\n",
        "\n",
        "Eğer zip dosyası indirmek istiyorsak veya kullanacağımız dosya bir zip dosyası ise aşağıdaki şekilde çalışabiliriz."
      ]
    },
    {
      "cell_type": "code",
      "metadata": {
        "id": "qhuRfocVAdc4",
        "colab_type": "code",
        "outputId": "82f80db0-8413-4e48-c6a5-f87e6f46f194",
        "colab": {
          "base_uri": "https://localhost:8080/",
          "height": 272
        }
      },
      "source": [
        "#veriyi indirmek\n",
        "!wget http://openpsychometrics.org/_rawdata/16PF.zip #link adresi"
      ],
      "execution_count": 0,
      "outputs": [
        {
          "output_type": "stream",
          "text": [
            "--2019-09-07 23:18:15--  http://openpsychometrics.org/_rawdata/16PF.zip\n",
            "Resolving openpsychometrics.org (openpsychometrics.org)... 69.164.197.103\n",
            "Connecting to openpsychometrics.org (openpsychometrics.org)|69.164.197.103|:80... connected.\n",
            "HTTP request sent, awaiting response... 301 Moved Permanently\n",
            "Location: https://openpsychometrics.org/_rawdata/16PF.zip [following]\n",
            "--2019-09-07 23:18:15--  https://openpsychometrics.org/_rawdata/16PF.zip\n",
            "Connecting to openpsychometrics.org (openpsychometrics.org)|69.164.197.103|:443... connected.\n",
            "HTTP request sent, awaiting response... 200 OK\n",
            "Length: 3686016 (3.5M) [application/zip]\n",
            "Saving to: ‘16PF.zip.1’\n",
            "\n",
            "16PF.zip.1          100%[===================>]   3.51M  3.99MB/s    in 0.9s    \n",
            "\n",
            "2019-09-07 23:18:17 (3.99 MB/s) - ‘16PF.zip.1’ saved [3686016/3686016]\n",
            "\n"
          ],
          "name": "stdout"
        }
      ]
    },
    {
      "cell_type": "code",
      "metadata": {
        "id": "LdP-XIF9-LvP",
        "colab_type": "code",
        "colab": {}
      },
      "source": [
        "#veriyi zip içinden çıkarmak\n",
        "import zipfile\n",
        "with zipfile.ZipFile(\"16PF.zip\", 'r') as zip_ref:\n",
        "    zip_ref.extractall(\"ornek_zip_klasörü\") #çıkaracağımız klasör ve yeri"
      ],
      "execution_count": 0,
      "outputs": []
    },
    {
      "cell_type": "markdown",
      "metadata": {
        "id": "Hcf6gdX_BfBp",
        "colab_type": "text"
      },
      "source": [
        "Drive'ı import ederek veriyi drive içine de çıkarabiliriz. extractall kısmının içine çıkarmak istediğimiz dosya yolunu yazmamız yeterli olacaktır."
      ]
    }
  ]
}
